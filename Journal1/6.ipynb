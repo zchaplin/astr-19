{
  "nbformat": 4,
  "nbformat_minor": 0,
  "metadata": {
    "colab": {
      "provenance": []
    },
    "kernelspec": {
      "name": "python3",
      "display_name": "Python 3"
    },
    "language_info": {
      "name": "python"
    }
  },
  "cells": [
    {
      "cell_type": "code",
      "execution_count": null,
      "metadata": {
        "id": "eGRQ56EmJAgB"
      },
      "outputs": [],
      "source": [
        "import numpy as np\n",
        "def cosX(x):\n",
        "  return np.cos(x)\n",
        "def sinX(x):\n",
        "  return np.sin(x)"
      ]
    },
    {
      "cell_type": "markdown",
      "source": [
        "##sinX returns the sin of x\n",
        "##cosX returns the cos of x"
      ],
      "metadata": {
        "id": "xVtPYN0dJ6F-"
      }
    },
    {
      "cell_type": "code",
      "source": [
        "steps = np.linspace(0, 2 * np.pi, 1000)\n"
      ],
      "metadata": {
        "id": "q6K5-KSPJvww"
      },
      "execution_count": null,
      "outputs": []
    },
    {
      "cell_type": "markdown",
      "source": [
        "##Create An Array Of Numbers Between 0 and 2pi"
      ],
      "metadata": {
        "id": "iYmoWyboCnaE"
      }
    },
    {
      "cell_type": "code",
      "source": [
        "for i in range(10):\n",
        "  print(f'{steps[i]} {cosX(steps[i])} {sinX(steps[i])}')"
      ],
      "metadata": {
        "colab": {
          "base_uri": "https://localhost:8080/"
        },
        "id": "2ynjqOfrBhdk",
        "outputId": "5e7423bf-1c6f-40ea-b9cb-b2f43edb33c2"
      },
      "execution_count": null,
      "outputs": [
        {
          "output_type": "stream",
          "name": "stdout",
          "text": [
            "0.0 1.0 0.0\n",
            "0.006289474781961547 0.9999802213186832 0.006289433316067751\n",
            "0.012578949563923095 0.9999208860571255 0.012578617838741058\n",
            "0.018868424345884642 0.9998219965624732 0.01886730478446709\n",
            "0.02515789912784619 0.9996835567465339 0.025155245389375847\n",
            "0.03144737390980774 0.9995055720856215 0.0314421909191206\n",
            "0.037736848691769284 0.99928804962034 0.03772789267871718\n",
            "0.04402632347373083 0.9990309979553044 0.04401210202238166\n",
            "0.05031579825569238 0.9987344272588006 0.05029457036336618\n",
            "0.056605273037653926 0.9983983492623831 0.056575049183792345\n"
          ]
        }
      ]
    },
    {
      "cell_type": "markdown",
      "source": [
        "##Loops through the first 10 vals of the array and calc and print"
      ],
      "metadata": {
        "id": "q3SIxjL2C12k"
      }
    }
  ]
}